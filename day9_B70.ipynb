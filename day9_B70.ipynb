{
 "cells": [
  {
   "cell_type": "code",
   "execution_count": 1,
   "id": "c519ebe5",
   "metadata": {},
   "outputs": [],
   "source": [
    "dimensions = (200,100,50)"
   ]
  },
  {
   "cell_type": "code",
   "execution_count": 2,
   "id": "6205bfc3",
   "metadata": {},
   "outputs": [
    {
     "name": "stdout",
     "output_type": "stream",
     "text": [
      "(200, 100, 50)\n"
     ]
    }
   ],
   "source": [
    "print(dimensions)"
   ]
  },
  {
   "cell_type": "code",
   "execution_count": 6,
   "id": "2f1017ba",
   "metadata": {},
   "outputs": [
    {
     "data": {
      "text/plain": [
       "tuple"
      ]
     },
     "execution_count": 6,
     "metadata": {},
     "output_type": "execute_result"
    }
   ],
   "source": [
    "type(dimensions)"
   ]
  },
  {
   "cell_type": "code",
   "execution_count": 7,
   "id": "5c9e95f3",
   "metadata": {},
   "outputs": [
    {
     "name": "stdout",
     "output_type": "stream",
     "text": [
      "50\n"
     ]
    }
   ],
   "source": [
    "print(dimensions[2])"
   ]
  },
  {
   "cell_type": "code",
   "execution_count": 16,
   "id": "87d63223",
   "metadata": {},
   "outputs": [
    {
     "name": "stdout",
     "output_type": "stream",
     "text": [
      "200\n",
      "100\n",
      "50\n"
     ]
    }
   ],
   "source": [
    "for x in dimensions:\n",
    "    print(x)"
   ]
  },
  {
   "cell_type": "code",
   "execution_count": 17,
   "id": "528340d4",
   "metadata": {},
   "outputs": [],
   "source": [
    "# req : i want to build an alien game.....?"
   ]
  },
  {
   "cell_type": "code",
   "execution_count": 20,
   "id": "9d0d371f",
   "metadata": {},
   "outputs": [],
   "source": [
    "alien = {'color':'green','points': 5}"
   ]
  },
  {
   "cell_type": "code",
   "execution_count": 21,
   "id": "1b2a00d3",
   "metadata": {},
   "outputs": [
    {
     "name": "stdout",
     "output_type": "stream",
     "text": [
      "{'color': 'green', 'points': 5}\n"
     ]
    }
   ],
   "source": [
    "print(alien)"
   ]
  },
  {
   "cell_type": "code",
   "execution_count": 22,
   "id": "2c91e4d8",
   "metadata": {},
   "outputs": [
    {
     "data": {
      "text/plain": [
       "dict"
      ]
     },
     "execution_count": 22,
     "metadata": {},
     "output_type": "execute_result"
    }
   ],
   "source": [
    "type(alien)"
   ]
  },
  {
   "cell_type": "code",
   "execution_count": 23,
   "id": "86f226f9",
   "metadata": {},
   "outputs": [
    {
     "name": "stdout",
     "output_type": "stream",
     "text": [
      "green\n"
     ]
    }
   ],
   "source": [
    "print(alien['color'])"
   ]
  },
  {
   "cell_type": "code",
   "execution_count": 24,
   "id": "a963aa9c",
   "metadata": {},
   "outputs": [
    {
     "ename": "SyntaxError",
     "evalue": "invalid syntax (2712498702.py, line 1)",
     "output_type": "error",
     "traceback": [
      "\u001b[1;36m  File \u001b[1;32m\"C:\\Users\\hashe\\AppData\\Local\\Temp\\ipykernel_16616\\2712498702.py\"\u001b[1;36m, line \u001b[1;32m1\u001b[0m\n\u001b[1;33m    req : i want to add start_position : 0\u001b[0m\n\u001b[1;37m            ^\u001b[0m\n\u001b[1;31mSyntaxError\u001b[0m\u001b[1;31m:\u001b[0m invalid syntax\n"
     ]
    }
   ],
   "source": [
    "req : i want to add start_position : 0"
   ]
  },
  {
   "cell_type": "code",
   "execution_count": 25,
   "id": "c0c05584",
   "metadata": {},
   "outputs": [],
   "source": [
    "alien[\"start_position\"]=0"
   ]
  },
  {
   "cell_type": "code",
   "execution_count": 28,
   "id": "7f02bd73",
   "metadata": {},
   "outputs": [
    {
     "name": "stdout",
     "output_type": "stream",
     "text": [
      "{'color': 'green', 'points': 5, 'start_position': 0}\n"
     ]
    }
   ],
   "source": [
    "\n",
    "print(alien)"
   ]
  },
  {
   "cell_type": "code",
   "execution_count": null,
   "id": "45441aab",
   "metadata": {},
   "outputs": [],
   "source": [
    "# req: i want to change the colorfrom green to yellow"
   ]
  },
  {
   "cell_type": "code",
   "execution_count": 30,
   "id": "1850ec7e",
   "metadata": {},
   "outputs": [],
   "source": [
    "alien['color']= 'yellow'"
   ]
  },
  {
   "cell_type": "code",
   "execution_count": 31,
   "id": "9b5175d7",
   "metadata": {},
   "outputs": [
    {
     "name": "stdout",
     "output_type": "stream",
     "text": [
      "{'color': 'yellow', 'points': 5, 'start_position': 0}\n"
     ]
    }
   ],
   "source": [
    "print(alien)"
   ]
  },
  {
   "cell_type": "code",
   "execution_count": 32,
   "id": "97f61c43",
   "metadata": {},
   "outputs": [],
   "source": [
    "#req : i want to delete the startposition how can i do that...?"
   ]
  },
  {
   "cell_type": "code",
   "execution_count": 33,
   "id": "68e464d4",
   "metadata": {},
   "outputs": [],
   "source": [
    "del alien['start_position']"
   ]
  },
  {
   "cell_type": "code",
   "execution_count": 34,
   "id": "c145903a",
   "metadata": {},
   "outputs": [
    {
     "name": "stdout",
     "output_type": "stream",
     "text": [
      "{'color': 'yellow', 'points': 5}\n"
     ]
    }
   ],
   "source": [
    "print(alien)"
   ]
  },
  {
   "cell_type": "code",
   "execution_count": null,
   "id": "2fcce896",
   "metadata": {},
   "outputs": [],
   "source": []
  }
 ],
 "metadata": {
  "kernelspec": {
   "display_name": "Python 3 (ipykernel)",
   "language": "python",
   "name": "python3"
  },
  "language_info": {
   "codemirror_mode": {
    "name": "ipython",
    "version": 3
   },
   "file_extension": ".py",
   "mimetype": "text/x-python",
   "name": "python",
   "nbconvert_exporter": "python",
   "pygments_lexer": "ipython3",
   "version": "3.9.13"
  }
 },
 "nbformat": 4,
 "nbformat_minor": 5
}
