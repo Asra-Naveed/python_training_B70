{
 "cells": [
  {
   "cell_type": "code",
   "execution_count": null,
   "id": "5f3ecf0e",
   "metadata": {},
   "outputs": [],
   "source": [
    "Introdection to Numbers :"
   ]
  },
  {
   "cell_type": "code",
   "execution_count": 2,
   "id": "4db47a9a",
   "metadata": {},
   "outputs": [],
   "source": [
    "number = 2"
   ]
  },
  {
   "cell_type": "code",
   "execution_count": 3,
   "id": "05daefe2",
   "metadata": {},
   "outputs": [
    {
     "name": "stdout",
     "output_type": "stream",
     "text": [
      "2\n"
     ]
    }
   ],
   "source": [
    "print(number)"
   ]
  },
  {
   "cell_type": "code",
   "execution_count": 4,
   "id": "24c5fcc3",
   "metadata": {},
   "outputs": [
    {
     "data": {
      "text/plain": [
       "int"
      ]
     },
     "execution_count": 4,
     "metadata": {},
     "output_type": "execute_result"
    }
   ],
   "source": [
    "type(number)"
   ]
  },
  {
   "cell_type": "code",
   "execution_count": 5,
   "id": "f5ea8a95",
   "metadata": {},
   "outputs": [],
   "source": [
    "n = 0.5"
   ]
  },
  {
   "cell_type": "code",
   "execution_count": 6,
   "id": "17529620",
   "metadata": {},
   "outputs": [
    {
     "data": {
      "text/plain": [
       "float"
      ]
     },
     "execution_count": 6,
     "metadata": {},
     "output_type": "execute_result"
    }
   ],
   "source": [
    "type(n)"
   ]
  },
  {
   "cell_type": "code",
   "execution_count": null,
   "id": "57c70f9f",
   "metadata": {},
   "outputs": [],
   "source": [
    "Introduction to list data type :"
   ]
  },
  {
   "cell_type": "code",
   "execution_count": 7,
   "id": "367c02e2",
   "metadata": {},
   "outputs": [],
   "source": [
    "students = ['kumar','naveed','amala','areeba','keerthi','juveriya']"
   ]
  },
  {
   "cell_type": "code",
   "execution_count": 8,
   "id": "852b526b",
   "metadata": {},
   "outputs": [
    {
     "name": "stdout",
     "output_type": "stream",
     "text": [
      "['kumar', 'naveed', 'amala', 'areeba', 'keerthi', 'juveriya']\n"
     ]
    }
   ],
   "source": [
    "print(students)"
   ]
  },
  {
   "cell_type": "code",
   "execution_count": null,
   "id": "e5d86ba7",
   "metadata": {},
   "outputs": [],
   "source": [
    "understanding the concept of indexing"
   ]
  },
  {
   "cell_type": "code",
   "execution_count": null,
   "id": "0b514872",
   "metadata": {},
   "outputs": [],
   "source": [
    "0,1,2,3..."
   ]
  },
  {
   "cell_type": "code",
   "execution_count": null,
   "id": "a7759bce",
   "metadata": {},
   "outputs": [],
   "source": [
    "students = ['kumar','naveed','amala','areeba','keerthi','juveriya']"
   ]
  },
  {
   "cell_type": "code",
   "execution_count": null,
   "id": "e56e4df0",
   "metadata": {},
   "outputs": [],
   "source": [
    "# req : i want to access naveed name in the output"
   ]
  },
  {
   "cell_type": "code",
   "execution_count": 11,
   "id": "4f07ea68",
   "metadata": {},
   "outputs": [
    {
     "name": "stdout",
     "output_type": "stream",
     "text": [
      "naveed\n"
     ]
    }
   ],
   "source": [
    "print(students[1])"
   ]
  },
  {
   "cell_type": "code",
   "execution_count": 12,
   "id": "2b77e050",
   "metadata": {},
   "outputs": [
    {
     "name": "stdout",
     "output_type": "stream",
     "text": [
      "Naveed\n"
     ]
    }
   ],
   "source": [
    "print(students[1].title())"
   ]
  },
  {
   "cell_type": "code",
   "execution_count": null,
   "id": "efbed5c3",
   "metadata": {},
   "outputs": [],
   "source": [
    "# req :i want to add ramesh to the above list"
   ]
  },
  {
   "cell_type": "code",
   "execution_count": 14,
   "id": "0855fd08",
   "metadata": {},
   "outputs": [],
   "source": [
    "students.append('ramesh')"
   ]
  },
  {
   "cell_type": "code",
   "execution_count": 15,
   "id": "b55134b5",
   "metadata": {},
   "outputs": [
    {
     "name": "stdout",
     "output_type": "stream",
     "text": [
      "['kumar', 'naveed', 'amala', 'areeba', 'keerthi', 'juveriya', 'ramesh', 'ramesh']\n"
     ]
    }
   ],
   "source": [
    "print(students)"
   ]
  },
  {
   "cell_type": "code",
   "execution_count": null,
   "id": "c7566b6c",
   "metadata": {},
   "outputs": [],
   "source": [
    "# req : i want to add triveni to the above list:"
   ]
  },
  {
   "cell_type": "code",
   "execution_count": 16,
   "id": "0522ebfd",
   "metadata": {},
   "outputs": [],
   "source": [
    "students.append('triveni')"
   ]
  },
  {
   "cell_type": "code",
   "execution_count": 17,
   "id": "8f304b58",
   "metadata": {},
   "outputs": [
    {
     "name": "stdout",
     "output_type": "stream",
     "text": [
      "['kumar', 'naveed', 'amala', 'areeba', 'keerthi', 'juveriya', 'ramesh', 'ramesh', 'triveni']\n"
     ]
    }
   ],
   "source": [
    "print(students)"
   ]
  },
  {
   "cell_type": "code",
   "execution_count": null,
   "id": "77ee7001",
   "metadata": {},
   "outputs": [],
   "source": [
    "# req : i want to add mohit nameto the 2nd index"
   ]
  },
  {
   "cell_type": "code",
   "execution_count": 20,
   "id": "21bae107",
   "metadata": {},
   "outputs": [],
   "source": [
    "students.insert(2,'mohit')"
   ]
  },
  {
   "cell_type": "code",
   "execution_count": 21,
   "id": "c9f12c54",
   "metadata": {},
   "outputs": [
    {
     "name": "stdout",
     "output_type": "stream",
     "text": [
      "['kumar', 'naveed', 'mohit', 'mohit', 'amala', 'areeba', 'keerthi', 'juveriya', 'ramesh', 'ramesh', 'triveni']\n"
     ]
    }
   ],
   "source": [
    "print(students)"
   ]
  },
  {
   "cell_type": "code",
   "execution_count": 22,
   "id": "3f8526cf",
   "metadata": {},
   "outputs": [
    {
     "name": "stdout",
     "output_type": "stream",
     "text": [
      "mohit\n"
     ]
    }
   ],
   "source": [
    "print(students[2])"
   ]
  },
  {
   "cell_type": "code",
   "execution_count": null,
   "id": "b074d515",
   "metadata": {},
   "outputs": [],
   "source": [
    "# req : i want to modify naveed name to hamza"
   ]
  },
  {
   "cell_type": "code",
   "execution_count": 23,
   "id": "8351badb",
   "metadata": {},
   "outputs": [],
   "source": [
    "students[1] = 'hamza'"
   ]
  },
  {
   "cell_type": "code",
   "execution_count": 24,
   "id": "85aa42a0",
   "metadata": {},
   "outputs": [
    {
     "name": "stdout",
     "output_type": "stream",
     "text": [
      "['kumar', 'hamza', 'mohit', 'mohit', 'amala', 'areeba', 'keerthi', 'juveriya', 'ramesh', 'ramesh', 'triveni']\n"
     ]
    }
   ],
   "source": [
    "print(students)"
   ]
  },
  {
   "cell_type": "code",
   "execution_count": null,
   "id": "b9725315",
   "metadata": {},
   "outputs": [],
   "source": [
    "# req : i want to delete the kumar name from the above list:"
   ]
  },
  {
   "cell_type": "code",
   "execution_count": 25,
   "id": "10ebfd52",
   "metadata": {},
   "outputs": [],
   "source": [
    "del students[0]"
   ]
  },
  {
   "cell_type": "code",
   "execution_count": 26,
   "id": "a58a7724",
   "metadata": {},
   "outputs": [
    {
     "name": "stdout",
     "output_type": "stream",
     "text": [
      "['hamza', 'mohit', 'mohit', 'amala', 'areeba', 'keerthi', 'juveriya', 'ramesh', 'ramesh', 'triveni']\n"
     ]
    }
   ],
   "source": [
    "print(students)"
   ]
  },
  {
   "cell_type": "code",
   "execution_count": null,
   "id": "a4e738fb",
   "metadata": {},
   "outputs": [],
   "source": []
  },
  {
   "cell_type": "code",
   "execution_count": null,
   "id": "73d27c9b",
   "metadata": {},
   "outputs": [],
   "source": []
  }
 ],
 "metadata": {
  "kernelspec": {
   "display_name": "Python 3 (ipykernel)",
   "language": "python",
   "name": "python3"
  },
  "language_info": {
   "codemirror_mode": {
    "name": "ipython",
    "version": 3
   },
   "file_extension": ".py",
   "mimetype": "text/x-python",
   "name": "python",
   "nbconvert_exporter": "python",
   "pygments_lexer": "ipython3",
   "version": "3.9.13"
  }
 },
 "nbformat": 4,
 "nbformat_minor": 5
}
