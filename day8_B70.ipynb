{
 "cells": [
  {
   "cell_type": "code",
   "execution_count": 1,
   "id": "61bbbb5d",
   "metadata": {},
   "outputs": [],
   "source": [
    "students = ['kumar','naveen','shruthi','shifa','arvind','joseph']"
   ]
  },
  {
   "cell_type": "code",
   "execution_count": 2,
   "id": "e930433d",
   "metadata": {},
   "outputs": [
    {
     "name": "stdout",
     "output_type": "stream",
     "text": [
      "['kumar', 'naveen', 'shruthi', 'shifa', 'arvind', 'joseph']\n"
     ]
    }
   ],
   "source": [
    "print(students)"
   ]
  },
  {
   "cell_type": "code",
   "execution_count": 3,
   "id": "668191df",
   "metadata": {},
   "outputs": [
    {
     "name": "stdout",
     "output_type": "stream",
     "text": [
      "keep up the good work, kumar\n"
     ]
    }
   ],
   "source": [
    "print(f\"keep up the good work, {students[0]}\")"
   ]
  },
  {
   "cell_type": "code",
   "execution_count": 4,
   "id": "9fbf4854",
   "metadata": {},
   "outputs": [
    {
     "name": "stdout",
     "output_type": "stream",
     "text": [
      "keep up the good work, naveen\n"
     ]
    }
   ],
   "source": [
    "print(f\"keep up the good work, {students[1]}\")"
   ]
  },
  {
   "cell_type": "code",
   "execution_count": 10,
   "id": "d62279e0",
   "metadata": {},
   "outputs": [
    {
     "name": "stdout",
     "output_type": "stream",
     "text": [
      "keep up the good work,kumar\n",
      "keep up the good work,naveen\n",
      "keep up the good work,shruthi\n",
      "keep up the good work,shifa\n",
      "keep up the good work,arvind\n",
      "keep up the good work,joseph\n"
     ]
    }
   ],
   "source": [
    "for x in students:\n",
    "    print(f\"keep up the good work,{x}\")"
   ]
  },
  {
   "cell_type": "code",
   "execution_count": 19,
   "id": "2dcb231c",
   "metadata": {},
   "outputs": [
    {
     "name": "stdout",
     "output_type": "stream",
     "text": [
      "keep up the good work, kumar\n",
      "keep up the good work, naveen\n",
      "keep up the good work, shruthi\n",
      "keep up the good work, shifa\n",
      "keep up the good work, arvind\n",
      "keep up the good work, joseph\n"
     ]
    }
   ],
   "source": [
    "for a in students:\n",
    "    print(f\"keep up the good work, {a}\")"
   ]
  },
  {
   "cell_type": "code",
   "execution_count": 20,
   "id": "28ba29b7",
   "metadata": {},
   "outputs": [
    {
     "name": "stdout",
     "output_type": "stream",
     "text": [
      "keep up the good work, kumar\n",
      "i am looking forward to receive your github notes of today,kumar\n",
      "keep up the good work, naveen\n",
      "i am looking forward to receive your github notes of today,naveen\n",
      "keep up the good work, shruthi\n",
      "i am looking forward to receive your github notes of today,shruthi\n",
      "keep up the good work, shifa\n",
      "i am looking forward to receive your github notes of today,shifa\n",
      "keep up the good work, arvind\n",
      "i am looking forward to receive your github notes of today,arvind\n",
      "keep up the good work, joseph\n",
      "i am looking forward to receive your github notes of today,joseph\n"
     ]
    }
   ],
   "source": [
    "for x in students:\n",
    "    print(f\"keep up the good work, {x}\")\n",
    "    print(f\"i am looking forward to receive your github notes of today,{x}\")"
   ]
  },
  {
   "cell_type": "code",
   "execution_count": 21,
   "id": "85bf9d7c",
   "metadata": {},
   "outputs": [
    {
     "name": "stdout",
     "output_type": "stream",
     "text": [
      "keep up the good work,kumar\n",
      "i am looking forward to receive your github notes of today,kumar\n",
      "\n",
      "keep up the good work,naveen\n",
      "i am looking forward to receive your github notes of today,naveen\n",
      "\n",
      "keep up the good work,shruthi\n",
      "i am looking forward to receive your github notes of today,shruthi\n",
      "\n",
      "keep up the good work,shifa\n",
      "i am looking forward to receive your github notes of today,shifa\n",
      "\n",
      "keep up the good work,arvind\n",
      "i am looking forward to receive your github notes of today,arvind\n",
      "\n",
      "keep up the good work,joseph\n",
      "i am looking forward to receive your github notes of today,joseph\n",
      "\n"
     ]
    }
   ],
   "source": [
    "for x in students:\n",
    "    print(f\"keep up the good work,{x}\")\n",
    "    print(f\"i am looking forward to receive your github notes of today,{x}\\n\")"
   ]
  },
  {
   "cell_type": "code",
   "execution_count": 30,
   "id": "28c9e0bd",
   "metadata": {},
   "outputs": [
    {
     "ename": "SyntaxError",
     "evalue": "invalid syntax (1826655342.py, line 5)",
     "output_type": "error",
     "traceback": [
      "\u001b[1;36m  File \u001b[1;32m\"C:\\Users\\hashe\\AppData\\Local\\Temp\\ipykernel_4876\\1826655342.py\"\u001b[1;36m, line \u001b[1;32m5\u001b[0m\n\u001b[1;33m    print(Thank you all for showing interest in learning python\")\u001b[0m\n\u001b[1;37m                ^\u001b[0m\n\u001b[1;31mSyntaxError\u001b[0m\u001b[1;31m:\u001b[0m invalid syntax\n"
     ]
    }
   ],
   "source": [
    "for x in students:\n",
    "    print(f\"keep up the good work,{x}\")\n",
    "    print(f\"i am looking forward to receive your github notes of today, {x}\\n\")\n",
    "    \n",
    "print(Thank you all for showing interest in learning python\")   "
   ]
  },
  {
   "cell_type": "code",
   "execution_count": null,
   "id": "e8378d65",
   "metadata": {},
   "outputs": [],
   "source": []
  },
  {
   "cell_type": "code",
   "execution_count": null,
   "id": "39a8cb23",
   "metadata": {},
   "outputs": [],
   "source": []
  }
 ],
 "metadata": {
  "kernelspec": {
   "display_name": "Python 3 (ipykernel)",
   "language": "python",
   "name": "python3"
  },
  "language_info": {
   "codemirror_mode": {
    "name": "ipython",
    "version": 3
   },
   "file_extension": ".py",
   "mimetype": "text/x-python",
   "name": "python",
   "nbconvert_exporter": "python",
   "pygments_lexer": "ipython3",
   "version": "3.9.13"
  }
 },
 "nbformat": 4,
 "nbformat_minor": 5
}
